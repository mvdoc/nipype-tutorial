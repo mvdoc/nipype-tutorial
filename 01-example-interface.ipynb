{
 "cells": [
  {
   "cell_type": "markdown",
   "metadata": {},
   "source": [
    "# Nipype interfaces\n",
    "\n",
    "**Learning objectives of this notebook: understanding Nipype interfaces.**\n",
    "***\n",
    "\n",
    "Nipype interfaces are the core processes that perform operations on data. We create a neuroimaging pipeline by combining these processes.\n",
    "\n",
    "## Interfaces for third-party neuroimaging toolkits\n",
    "\n",
    "Nipype already implements a lot of interfaces. Most of them wrap existing command line tools from neuroimaging toolkits, such as\n",
    "\n",
    "- `nipype.interfaces.afni`\n",
    "- `nipype.interfaces.fsl`\n",
    "- `nipype.interfaces.spm`\n",
    "- `nipype.interfaces.freesurfer`\n",
    "- `nipype.interfaces.ants`\n",
    "\n",
    "A list of existing interfaces can be found in the nipype documentation: https://nipype.readthedocs.io/en/latest/interfaces.html\n",
    "\n",
    "Let's take for example FSL's MCFLIRT, a tool used for motion correction. The help for each interface can be printed with the method `.help()`."
   ]
  },
  {
   "cell_type": "code",
   "execution_count": null,
   "metadata": {
    "scrolled": true,
    "tags": []
   },
   "outputs": [],
   "source": [
    "from nipype.interfaces import fsl\n",
    "\n",
    "fsl.MCFLIRT.help()"
   ]
  },
  {
   "cell_type": "markdown",
   "metadata": {},
   "source": [
    "If we want to use an interface by itself without plugging in into a pipeline, we can follow the example in the docstring.\n",
    "\n",
    "Note that the following cell will fail, because `functional.nii` does not exist, and inputs and outputs are validated. In this case, the interface requires the input file to exist."
   ]
  },
  {
   "cell_type": "code",
   "execution_count": null,
   "metadata": {
    "scrolled": true,
    "tags": []
   },
   "outputs": [],
   "source": [
    "# This will fail\n",
    "mcflt = fsl.MCFLIRT()\n",
    "mcflt.inputs.in_file = 'data/functional.nii'\n",
    "mcflt.inputs.cost = 'mutualinfo'\n",
    "mcflt.inputs.out_file = 'moco.nii'\n",
    "mcflt.cmdline"
   ]
  },
  {
   "cell_type": "markdown",
   "metadata": {},
   "source": [
    "We are just going to create a file called `functional.nii` to skip this error. Note that the check is only about the filename, and not the content of the file."
   ]
  },
  {
   "cell_type": "code",
   "execution_count": null,
   "metadata": {},
   "outputs": [],
   "source": [
    "!touch data/functional.nii"
   ]
  },
  {
   "cell_type": "code",
   "execution_count": null,
   "metadata": {},
   "outputs": [],
   "source": [
    "mcflt = fsl.MCFLIRT()\n",
    "mcflt.inputs.in_file = 'data/functional.nii'\n",
    "mcflt.inputs.cost = 'mutualinfo'\n",
    "mcflt.inputs.smooth = 3.5\n",
    "mcflt.inputs.out_file = 'moco.nii'\n",
    "# This will print the command line argument that will be run\n",
    "# when executing mcflt.run()\n",
    "mcflt.cmdline"
   ]
  },
  {
   "cell_type": "markdown",
   "metadata": {},
   "source": [
    "## Python-based interfaces\n",
    "\n",
    "A small number of interfaces are based on custom python code shipped with Nipype. The most useful interfaces of this type are used to generate nuisance regressors, or confounds. They are under `nipype.algorithms.confounds`. These two interfaces can be useful."
   ]
  },
  {
   "cell_type": "code",
   "execution_count": null,
   "metadata": {},
   "outputs": [],
   "source": [
    "from nipype.algorithms.confounds import CompCor, FramewiseDisplacement"
   ]
  },
  {
   "cell_type": "markdown",
   "metadata": {},
   "source": [
    "The `CompCor` interface is used to generate regressors for white-matter detrending (or CompCor):"
   ]
  },
  {
   "cell_type": "code",
   "execution_count": null,
   "metadata": {
    "scrolled": true,
    "tags": []
   },
   "outputs": [],
   "source": [
    "CompCor.help()"
   ]
  },
  {
   "cell_type": "markdown",
   "metadata": {},
   "source": [
    "The `FramewiseDisplacement` interface is used to compute framewise displacement from motion-correction parameters:"
   ]
  },
  {
   "cell_type": "code",
   "execution_count": null,
   "metadata": {
    "scrolled": true,
    "tags": []
   },
   "outputs": [],
   "source": [
    "FramewiseDisplacement.help()"
   ]
  },
  {
   "cell_type": "markdown",
   "metadata": {},
   "source": [
    "## Writing your own interfaces"
   ]
  },
  {
   "cell_type": "markdown",
   "metadata": {},
   "source": [
    "Writing a new interface is fairly easy. The hardest part is figuring out the correct \"traits\" for each input/output parameter, so that they will be validated correctly. \n",
    "\n",
    "The easiest way to write a new interface is by copying an existing one and replacing the command line argument (if you are wrapping a command line tool) or the python code that performs whatever operation you need to do. If you are wrapping a command line tool from a neuroimaging toolkit that does not exist in Nipype yet, consider opening a PR to nipype, so others can benefit from your hard work.\n",
    "\n",
    "From more information about writing your own interfaces, check the detailed developers documentation on Nipype's docs: https://nipype.readthedocs.io/en/latest/devel/interface_specs.html"
   ]
  },
  {
   "cell_type": "markdown",
   "metadata": {},
   "source": [
    "***\n",
    "\n",
    "In the next notebook we will create our first pipeline by linking together interfaces into a workflow.\n",
    "\n",
    "Go to the next notebook: [02-example-simple-workflow](02-example-simple-workflow.ipynb)."
   ]
  }
 ],
 "metadata": {
  "kernelspec": {
   "display_name": "Python 3",
   "language": "python",
   "name": "python3"
  },
  "language_info": {
   "codemirror_mode": {
    "name": "ipython",
    "version": 3
   },
   "file_extension": ".py",
   "mimetype": "text/x-python",
   "name": "python",
   "nbconvert_exporter": "python",
   "pygments_lexer": "ipython3",
   "version": "3.8.3"
  }
 },
 "nbformat": 4,
 "nbformat_minor": 5
}
