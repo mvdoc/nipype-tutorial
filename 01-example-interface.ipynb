{
 "cells": [
  {
   "cell_type": "markdown",
   "id": "sudden-spanking",
   "metadata": {},
   "source": [
    "# Nipype interfaces\n",
    "\n",
    "Nipype interfaces are the core processes that perform operations on data. We create a neuroimaging pipeline by combining these processes.\n",
    "\n",
    "## Interfaces for third-party neuroimaging toolkits\n",
    "\n",
    "Nipype already implements a lot of interfaces. Most of them wrap existing command line tools from neuroimaging toolkits, such as\n",
    "\n",
    "- `nipype.interfaces.afni`\n",
    "- `nipype.interfaces.fsl`\n",
    "- `nipype.interfaces.spm`\n",
    "- `nipype.interfaces.freesurfer`\n",
    "- `nipype.interfaces.ants`\n",
    "\n",
    "A list of existing interfaces can be found in the nipype documentation: https://nipype.readthedocs.io/en/latest/interfaces.html\n",
    "\n",
    "Let's take for example FSL's MCFLIRT, a tool used for motion correction. The help for each interface can be printed with the method `.help()`."
   ]
  },
  {
   "cell_type": "code",
   "execution_count": 1,
   "id": "veterinary-victor",
   "metadata": {
    "scrolled": true,
    "tags": []
   },
   "outputs": [
    {
     "name": "stdout",
     "output_type": "stream",
     "text": [
      "Wraps the executable command ``mcflirt``.\n",
      "\n",
      "FSL MCFLIRT wrapper for within-modality motion correction\n",
      "\n",
      "For complete details, see the `MCFLIRT Documentation.\n",
      "<https://fsl.fmrib.ox.ac.uk/fsl/fslwiki/MCFLIRT>`_\n",
      "\n",
      "Examples\n",
      "--------\n",
      ">>> from nipype.interfaces import fsl\n",
      ">>> mcflt = fsl.MCFLIRT()\n",
      ">>> mcflt.inputs.in_file = 'functional.nii'\n",
      ">>> mcflt.inputs.cost = 'mutualinfo'\n",
      ">>> mcflt.inputs.out_file = 'moco.nii'\n",
      ">>> mcflt.cmdline\n",
      "'mcflirt -in functional.nii -cost mutualinfo -out moco.nii'\n",
      ">>> res = mcflt.run()  # doctest: +SKIP\n",
      "\n",
      "Inputs::\n",
      "\n",
      "        [Mandatory]\n",
      "        in_file: (a pathlike object or string representing an existing file)\n",
      "                timeseries to motion-correct\n",
      "                argument: ``-in %s``, position: 0\n",
      "\n",
      "        [Optional]\n",
      "        out_file: (a pathlike object or string representing a file)\n",
      "                file to write\n",
      "                argument: ``-out %s``\n",
      "        cost: ('mutualinfo' or 'woods' or 'corratio' or 'normcorr' or\n",
      "                  'normmi' or 'leastsquares')\n",
      "                cost function to optimize\n",
      "                argument: ``-cost %s``\n",
      "        bins: (an integer)\n",
      "                number of histogram bins\n",
      "                argument: ``-bins %d``\n",
      "        dof: (an integer)\n",
      "                degrees of freedom for the transformation\n",
      "                argument: ``-dof %d``\n",
      "        ref_vol: (an integer)\n",
      "                volume to align frames to\n",
      "                argument: ``-refvol %d``\n",
      "        scaling: (a float)\n",
      "                scaling factor to use\n",
      "                argument: ``-scaling %.2f``\n",
      "        smooth: (a float)\n",
      "                smoothing factor for the cost function\n",
      "                argument: ``-smooth %.2f``\n",
      "        rotation: (an integer)\n",
      "                scaling factor for rotation tolerances\n",
      "                argument: ``-rotation %d``\n",
      "        stages: (an integer)\n",
      "                stages (if 4, perform final search with sinc interpolation\n",
      "                argument: ``-stages %d``\n",
      "        init: (a pathlike object or string representing an existing file)\n",
      "                inital transformation matrix\n",
      "                argument: ``-init %s``\n",
      "        interpolation: ('spline' or 'nn' or 'sinc')\n",
      "                interpolation method for transformation\n",
      "                argument: ``-%s_final``\n",
      "        use_gradient: (a boolean)\n",
      "                run search on gradient images\n",
      "                argument: ``-gdt``\n",
      "        use_contour: (a boolean)\n",
      "                run search on contour images\n",
      "                argument: ``-edge``\n",
      "        mean_vol: (a boolean)\n",
      "                register to mean volume\n",
      "                argument: ``-meanvol``\n",
      "        stats_imgs: (a boolean)\n",
      "                produce variance and std. dev. images\n",
      "                argument: ``-stats``\n",
      "        save_mats: (a boolean)\n",
      "                save transformation matrices\n",
      "                argument: ``-mats``\n",
      "        save_plots: (a boolean)\n",
      "                save transformation parameters\n",
      "                argument: ``-plots``\n",
      "        save_rms: (a boolean)\n",
      "                save rms displacement parameters\n",
      "                argument: ``-rmsabs -rmsrel``\n",
      "        ref_file: (a pathlike object or string representing an existing file)\n",
      "                target image for motion correction\n",
      "                argument: ``-reffile %s``\n",
      "        output_type: ('NIFTI' or 'NIFTI_PAIR' or 'NIFTI_GZ' or\n",
      "                  'NIFTI_PAIR_GZ')\n",
      "                FSL output type\n",
      "        args: (a string)\n",
      "                Additional parameters to the command\n",
      "                argument: ``%s``\n",
      "        environ: (a dictionary with keys which are a bytes or None or a value\n",
      "                  of class 'str' and with values which are a bytes or None or a\n",
      "                  value of class 'str', nipype default value: {})\n",
      "                Environment variables\n",
      "\n",
      "Outputs::\n",
      "\n",
      "        out_file: (a pathlike object or string representing an existing file)\n",
      "                motion-corrected timeseries\n",
      "        variance_img: (a pathlike object or string representing an existing\n",
      "                  file)\n",
      "                variance image\n",
      "        std_img: (a pathlike object or string representing an existing file)\n",
      "                standard deviation image\n",
      "        mean_img: (a pathlike object or string representing an existing file)\n",
      "                mean timeseries image (if mean_vol=True)\n",
      "        par_file: (a pathlike object or string representing an existing file)\n",
      "                text-file with motion parameters\n",
      "        mat_file: (a list of items which are a pathlike object or string\n",
      "                  representing an existing file)\n",
      "                transformation matrices\n",
      "        rms_files: (a list of items which are a pathlike object or string\n",
      "                  representing an existing file)\n",
      "                absolute and relative displacement parameters\n",
      "\n",
      "References:\n",
      "-----------\n",
      "None\n"
     ]
    }
   ],
   "source": [
    "from nipype.interfaces import fsl\n",
    "\n",
    "fsl.MCFLIRT.help()"
   ]
  },
  {
   "cell_type": "markdown",
   "id": "interpreted-accreditation",
   "metadata": {},
   "source": [
    "If we want to use an interface by itself without plugging in into a pipeline, we can follow the example in the docstring.\n",
    "\n",
    "Note that the following cell will fail, because `functional.nii` does not exist, and inputs and outputs are validated. In this case, the interface requires the input file to exist."
   ]
  },
  {
   "cell_type": "code",
   "execution_count": 3,
   "id": "another-integrity",
   "metadata": {
    "scrolled": true,
    "tags": []
   },
   "outputs": [
    {
     "ename": "TraitError",
     "evalue": "The 'in_file' trait of a MCFLIRTInputSpec instance must be a pathlike object or string representing an existing file, but a value of 'functional.nii' <class 'str'> was specified.",
     "output_type": "error",
     "traceback": [
      "\u001b[0;31m---------------------------------------------------------------------------\u001b[0m",
      "\u001b[0;31mTraitError\u001b[0m                                Traceback (most recent call last)",
      "\u001b[0;32m<ipython-input-3-ec3e37f91b5c>\u001b[0m in \u001b[0;36m<module>\u001b[0;34m\u001b[0m\n\u001b[1;32m      1\u001b[0m \u001b[0;31m# This will fail\u001b[0m\u001b[0;34m\u001b[0m\u001b[0;34m\u001b[0m\u001b[0;34m\u001b[0m\u001b[0m\n\u001b[1;32m      2\u001b[0m \u001b[0mmcflt\u001b[0m \u001b[0;34m=\u001b[0m \u001b[0mfsl\u001b[0m\u001b[0;34m.\u001b[0m\u001b[0mMCFLIRT\u001b[0m\u001b[0;34m(\u001b[0m\u001b[0;34m)\u001b[0m\u001b[0;34m\u001b[0m\u001b[0;34m\u001b[0m\u001b[0m\n\u001b[0;32m----> 3\u001b[0;31m \u001b[0mmcflt\u001b[0m\u001b[0;34m.\u001b[0m\u001b[0minputs\u001b[0m\u001b[0;34m.\u001b[0m\u001b[0min_file\u001b[0m \u001b[0;34m=\u001b[0m \u001b[0;34m'functional.nii'\u001b[0m\u001b[0;34m\u001b[0m\u001b[0;34m\u001b[0m\u001b[0m\n\u001b[0m\u001b[1;32m      4\u001b[0m \u001b[0mmcflt\u001b[0m\u001b[0;34m.\u001b[0m\u001b[0minputs\u001b[0m\u001b[0;34m.\u001b[0m\u001b[0mcost\u001b[0m \u001b[0;34m=\u001b[0m \u001b[0;34m'mutualinfo'\u001b[0m\u001b[0;34m\u001b[0m\u001b[0;34m\u001b[0m\u001b[0m\n\u001b[1;32m      5\u001b[0m \u001b[0mmcflt\u001b[0m\u001b[0;34m.\u001b[0m\u001b[0minputs\u001b[0m\u001b[0;34m.\u001b[0m\u001b[0mout_file\u001b[0m \u001b[0;34m=\u001b[0m \u001b[0;34m'moco.nii'\u001b[0m\u001b[0;34m\u001b[0m\u001b[0;34m\u001b[0m\u001b[0m\n",
      "\u001b[0;32m~/miniconda3/envs/proj-pcan/lib/python3.7/site-packages/nipype/interfaces/base/traits_extension.py\u001b[0m in \u001b[0;36mvalidate\u001b[0;34m(self, objekt, name, value, return_pathlike)\u001b[0m\n\u001b[1;32m    328\u001b[0m     \u001b[0;32mdef\u001b[0m \u001b[0mvalidate\u001b[0m\u001b[0;34m(\u001b[0m\u001b[0mself\u001b[0m\u001b[0;34m,\u001b[0m \u001b[0mobjekt\u001b[0m\u001b[0;34m,\u001b[0m \u001b[0mname\u001b[0m\u001b[0;34m,\u001b[0m \u001b[0mvalue\u001b[0m\u001b[0;34m,\u001b[0m \u001b[0mreturn_pathlike\u001b[0m\u001b[0;34m=\u001b[0m\u001b[0;32mFalse\u001b[0m\u001b[0;34m)\u001b[0m\u001b[0;34m:\u001b[0m\u001b[0;34m\u001b[0m\u001b[0;34m\u001b[0m\u001b[0m\n\u001b[1;32m    329\u001b[0m         \u001b[0;34m\"\"\"Validate a value change.\"\"\"\u001b[0m\u001b[0;34m\u001b[0m\u001b[0;34m\u001b[0m\u001b[0m\n\u001b[0;32m--> 330\u001b[0;31m         \u001b[0mvalue\u001b[0m \u001b[0;34m=\u001b[0m \u001b[0msuper\u001b[0m\u001b[0;34m(\u001b[0m\u001b[0mFile\u001b[0m\u001b[0;34m,\u001b[0m \u001b[0mself\u001b[0m\u001b[0;34m)\u001b[0m\u001b[0;34m.\u001b[0m\u001b[0mvalidate\u001b[0m\u001b[0;34m(\u001b[0m\u001b[0mobjekt\u001b[0m\u001b[0;34m,\u001b[0m \u001b[0mname\u001b[0m\u001b[0;34m,\u001b[0m \u001b[0mvalue\u001b[0m\u001b[0;34m,\u001b[0m \u001b[0mreturn_pathlike\u001b[0m\u001b[0;34m=\u001b[0m\u001b[0;32mTrue\u001b[0m\u001b[0;34m)\u001b[0m\u001b[0;34m\u001b[0m\u001b[0;34m\u001b[0m\u001b[0m\n\u001b[0m\u001b[1;32m    331\u001b[0m         \u001b[0;32mif\u001b[0m \u001b[0mself\u001b[0m\u001b[0;34m.\u001b[0m\u001b[0m_exts\u001b[0m\u001b[0;34m:\u001b[0m\u001b[0;34m\u001b[0m\u001b[0;34m\u001b[0m\u001b[0m\n\u001b[1;32m    332\u001b[0m             \u001b[0mfname\u001b[0m \u001b[0;34m=\u001b[0m \u001b[0mvalue\u001b[0m\u001b[0;34m.\u001b[0m\u001b[0mname\u001b[0m\u001b[0;34m\u001b[0m\u001b[0;34m\u001b[0m\u001b[0m\n",
      "\u001b[0;32m~/miniconda3/envs/proj-pcan/lib/python3.7/site-packages/nipype/interfaces/base/traits_extension.py\u001b[0m in \u001b[0;36mvalidate\u001b[0;34m(self, objekt, name, value, return_pathlike)\u001b[0m\n\u001b[1;32m    133\u001b[0m         \u001b[0;32mif\u001b[0m \u001b[0mself\u001b[0m\u001b[0;34m.\u001b[0m\u001b[0mexists\u001b[0m\u001b[0;34m:\u001b[0m\u001b[0;34m\u001b[0m\u001b[0;34m\u001b[0m\u001b[0m\n\u001b[1;32m    134\u001b[0m             \u001b[0;32mif\u001b[0m \u001b[0;32mnot\u001b[0m \u001b[0mvalue\u001b[0m\u001b[0;34m.\u001b[0m\u001b[0mexists\u001b[0m\u001b[0;34m(\u001b[0m\u001b[0;34m)\u001b[0m\u001b[0;34m:\u001b[0m\u001b[0;34m\u001b[0m\u001b[0;34m\u001b[0m\u001b[0m\n\u001b[0;32m--> 135\u001b[0;31m                 \u001b[0mself\u001b[0m\u001b[0;34m.\u001b[0m\u001b[0merror\u001b[0m\u001b[0;34m(\u001b[0m\u001b[0mobjekt\u001b[0m\u001b[0;34m,\u001b[0m \u001b[0mname\u001b[0m\u001b[0;34m,\u001b[0m \u001b[0mstr\u001b[0m\u001b[0;34m(\u001b[0m\u001b[0mvalue\u001b[0m\u001b[0;34m)\u001b[0m\u001b[0;34m)\u001b[0m\u001b[0;34m\u001b[0m\u001b[0;34m\u001b[0m\u001b[0m\n\u001b[0m\u001b[1;32m    136\u001b[0m \u001b[0;34m\u001b[0m\u001b[0m\n\u001b[1;32m    137\u001b[0m             \u001b[0;32mif\u001b[0m \u001b[0mself\u001b[0m\u001b[0;34m.\u001b[0m\u001b[0m_is_file\u001b[0m \u001b[0;32mand\u001b[0m \u001b[0;32mnot\u001b[0m \u001b[0mvalue\u001b[0m\u001b[0;34m.\u001b[0m\u001b[0mis_file\u001b[0m\u001b[0;34m(\u001b[0m\u001b[0;34m)\u001b[0m\u001b[0;34m:\u001b[0m\u001b[0;34m\u001b[0m\u001b[0;34m\u001b[0m\u001b[0m\n",
      "\u001b[0;32m~/miniconda3/envs/proj-pcan/lib/python3.7/site-packages/traits/base_trait_handler.py\u001b[0m in \u001b[0;36merror\u001b[0;34m(self, object, name, value)\u001b[0m\n\u001b[1;32m     73\u001b[0m         \"\"\"\n\u001b[1;32m     74\u001b[0m         raise TraitError(\n\u001b[0;32m---> 75\u001b[0;31m             \u001b[0mobject\u001b[0m\u001b[0;34m,\u001b[0m \u001b[0mname\u001b[0m\u001b[0;34m,\u001b[0m \u001b[0mself\u001b[0m\u001b[0;34m.\u001b[0m\u001b[0mfull_info\u001b[0m\u001b[0;34m(\u001b[0m\u001b[0mobject\u001b[0m\u001b[0;34m,\u001b[0m \u001b[0mname\u001b[0m\u001b[0;34m,\u001b[0m \u001b[0mvalue\u001b[0m\u001b[0;34m)\u001b[0m\u001b[0;34m,\u001b[0m \u001b[0mvalue\u001b[0m\u001b[0;34m\u001b[0m\u001b[0;34m\u001b[0m\u001b[0m\n\u001b[0m\u001b[1;32m     76\u001b[0m         )\n\u001b[1;32m     77\u001b[0m \u001b[0;34m\u001b[0m\u001b[0m\n",
      "\u001b[0;31mTraitError\u001b[0m: The 'in_file' trait of a MCFLIRTInputSpec instance must be a pathlike object or string representing an existing file, but a value of 'functional.nii' <class 'str'> was specified."
     ]
    }
   ],
   "source": [
    "# This will fail\n",
    "mcflt = fsl.MCFLIRT()\n",
    "mcflt.inputs.in_file = 'functional.nii'\n",
    "mcflt.inputs.cost = 'mutualinfo'\n",
    "mcflt.inputs.out_file = 'moco.nii'\n",
    "mcflt.cmdline"
   ]
  },
  {
   "cell_type": "markdown",
   "id": "muslim-garage",
   "metadata": {},
   "source": [
    "We are just going to create a file called `functional.nii` to skip this error. Note that the check is only about the filename, and not the content of the file."
   ]
  },
  {
   "cell_type": "code",
   "execution_count": 4,
   "id": "twenty-hayes",
   "metadata": {},
   "outputs": [],
   "source": [
    "!touch functional.nii"
   ]
  },
  {
   "cell_type": "code",
   "execution_count": 7,
   "id": "sound-mason",
   "metadata": {},
   "outputs": [
    {
     "data": {
      "text/plain": [
       "'mcflirt -in functional.nii -cost mutualinfo -out moco.nii -smooth 3.50'"
      ]
     },
     "execution_count": 7,
     "metadata": {},
     "output_type": "execute_result"
    }
   ],
   "source": [
    "mcflt = fsl.MCFLIRT()\n",
    "mcflt.inputs.in_file = 'functional.nii'\n",
    "mcflt.inputs.cost = 'mutualinfo'\n",
    "mcflt.inputs.smooth = 3.5\n",
    "mcflt.inputs.out_file = 'moco.nii'\n",
    "# This will print the command line argument that will be run\n",
    "# when executing mcflt.run()\n",
    "mcflt.cmdline"
   ]
  },
  {
   "cell_type": "markdown",
   "id": "polish-joint",
   "metadata": {},
   "source": [
    "## Python-based interfaces\n",
    "\n",
    "A small number of interfaces are based on custom python code shipped with Nipype. The most useful interfaces of this type are used to generate nuisance regressors, or confounds. They are under `nipype.algorithms.confounds`. These three interfaces are very useful."
   ]
  },
  {
   "cell_type": "code",
   "execution_count": 8,
   "id": "unable-allowance",
   "metadata": {},
   "outputs": [],
   "source": [
    "from nipype.algorithms.confounds import CompCor, FramewiseDisplacement"
   ]
  },
  {
   "cell_type": "markdown",
   "id": "imported-reservation",
   "metadata": {},
   "source": [
    "The `CompCor` interface is used to generate regressors for white-matter detrending (or CompCor):"
   ]
  },
  {
   "cell_type": "code",
   "execution_count": 9,
   "id": "happy-wrestling",
   "metadata": {
    "scrolled": true,
    "tags": []
   },
   "outputs": [
    {
     "name": "stdout",
     "output_type": "stream",
     "text": [
      "Interface with core CompCor computation, used in aCompCor and tCompCor.\n",
      "\n",
      "CompCor provides three pre-filter options, all of which include per-voxel\n",
      "mean removal:\n",
      "\n",
      "  - ``'polynomial'``: Legendre polynomial basis\n",
      "  - ``'cosine'``: Discrete cosine basis\n",
      "  - ``False``: mean-removal only\n",
      "\n",
      "In the case of ``polynomial`` and ``cosine`` filters, a pre-filter file may\n",
      "be saved with a row for each volume/timepoint, and a column for each\n",
      "non-constant regressor.\n",
      "If no non-constant (mean-removal) columns are used, this file may be empty.\n",
      "\n",
      "If ``ignore_initial_volumes`` is set, then the specified number of initial\n",
      "volumes are excluded both from pre-filtering and CompCor component\n",
      "extraction.\n",
      "Each column in the components and pre-filter files are prefixe with zeros\n",
      "for each excluded volume so that the number of rows continues to match the\n",
      "number of volumes in the input file.\n",
      "In addition, for each excluded volume, a column is added to the pre-filter\n",
      "file with a 1 in the corresponding row.\n",
      "\n",
      "Example\n",
      "-------\n",
      ">>> ccinterface = CompCor()\n",
      ">>> ccinterface.inputs.realigned_file = 'functional.nii'\n",
      ">>> ccinterface.inputs.mask_files = 'mask.nii'\n",
      ">>> ccinterface.inputs.num_components = 1\n",
      ">>> ccinterface.inputs.pre_filter = 'polynomial'\n",
      ">>> ccinterface.inputs.regress_poly_degree = 2\n",
      "\n",
      "Inputs::\n",
      "\n",
      "        [Mandatory]\n",
      "        realigned_file: (a pathlike object or string representing an existing\n",
      "                  file)\n",
      "                already realigned brain image (4D)\n",
      "\n",
      "        [Optional]\n",
      "        mask_files: (a list of items which are a pathlike object or string\n",
      "                  representing an existing file)\n",
      "                One or more mask files that determines ROI (3D). When more that one\n",
      "                file is provided ``merge_method`` or ``merge_index`` must be\n",
      "                provided\n",
      "        merge_method: ('union' or 'intersect' or 'none')\n",
      "                Merge method if multiple masks are present - ``union`` uses voxels\n",
      "                included in at least one input mask, ``intersect`` uses only voxels\n",
      "                present in all input masks, ``none`` performs CompCor on each mask\n",
      "                individually\n",
      "                mutually_exclusive: mask_index\n",
      "                requires: mask_files\n",
      "        mask_index: (an integer >= 0)\n",
      "                Position of mask in ``mask_files`` to use - first is the default.\n",
      "                mutually_exclusive: merge_method\n",
      "                requires: mask_files\n",
      "        mask_names: (a list of items which are a string)\n",
      "                Names for provided masks (for printing into metadata). If provided,\n",
      "                it must be as long as the final mask list (after any merge and\n",
      "                indexing operations).\n",
      "        components_file: (a string, nipype default value:\n",
      "                  components_file.txt)\n",
      "                Filename to store physiological components\n",
      "        num_components: (an integer >= 1 or 'all')\n",
      "                Number of components to return from the decomposition. If\n",
      "                ``num_components`` is ``all``, then all components will be retained.\n",
      "                mutually_exclusive: variance_threshold\n",
      "        variance_threshold: (0.0 < a floating point number < 1.0)\n",
      "                Select the number of components to be returned automatically based\n",
      "                on their ability to explain variance in the dataset.\n",
      "                ``variance_threshold`` is a fractional value between 0 and 1; the\n",
      "                number of components retained will be equal to the minimum number of\n",
      "                components necessary to explain the provided fraction of variance in\n",
      "                the masked time series.\n",
      "                mutually_exclusive: num_components\n",
      "        pre_filter: ('polynomial' or 'cosine' or False, nipype default value:\n",
      "                  polynomial)\n",
      "                Detrend time series prior to component extraction\n",
      "        use_regress_poly: (a boolean)\n",
      "                use polynomial regression pre-component extraction\n",
      "        regress_poly_degree: (an integer >= 1, nipype default value: 1)\n",
      "                the degree polynomial to use\n",
      "        header_prefix: (a string)\n",
      "                the desired header for the output tsv file (one column). If\n",
      "                undefined, will default to \"CompCor\"\n",
      "        high_pass_cutoff: (a float, nipype default value: 128)\n",
      "                Cutoff (in seconds) for \"cosine\" pre-filter\n",
      "        repetition_time: (a float)\n",
      "                Repetition time (TR) of series - derived from image header if\n",
      "                unspecified\n",
      "        save_pre_filter: (a boolean or a pathlike object or string\n",
      "                  representing a file, nipype default value: False)\n",
      "                Save pre-filter basis as text file\n",
      "        save_metadata: (a boolean or a pathlike object or string representing\n",
      "                  a file, nipype default value: False)\n",
      "                Save component metadata as text file\n",
      "        ignore_initial_volumes: (an integer >= 0, nipype default value: 0)\n",
      "                Number of volumes at start of series to ignore\n",
      "        failure_mode: ('error' or 'NaN', nipype default value: error)\n",
      "                When no components are found or convergence fails, raise an error or\n",
      "                silently return columns of NaNs.\n",
      "\n",
      "Outputs::\n",
      "\n",
      "        components_file: (a pathlike object or string representing an\n",
      "                  existing file)\n",
      "                text file containing the noise components\n",
      "        pre_filter_file: (a pathlike object or string representing a file)\n",
      "                text file containing high-pass filter basis\n",
      "        metadata_file: (a pathlike object or string representing a file)\n",
      "                text file containing component metadata\n",
      "\n",
      "References:\n",
      "-----------\n",
      "None\n"
     ]
    }
   ],
   "source": [
    "CompCor.help()"
   ]
  },
  {
   "cell_type": "markdown",
   "id": "joint-doctrine",
   "metadata": {},
   "source": [
    "The `FramewiseDisplacement` interface is used to compute framewise displacement from motion-correction parameters:"
   ]
  },
  {
   "cell_type": "code",
   "execution_count": 10,
   "id": "defined-adolescent",
   "metadata": {
    "scrolled": true,
    "tags": []
   },
   "outputs": [
    {
     "name": "stdout",
     "output_type": "stream",
     "text": [
      "Calculate the :abbr:`FD (framewise displacement)` as in [Power2012]_.\n",
      "This implementation reproduces the calculation in fsl_motion_outliers\n",
      "\n",
      ".. [Power2012] Power et al., Spurious but systematic correlations in functional\n",
      "     connectivity MRI networks arise from subject motion, NeuroImage 59(3),\n",
      "     2012. doi:`10.1016/j.neuroimage.2011.10.018\n",
      "     <https://doi.org/10.1016/j.neuroimage.2011.10.018>`_.\n",
      "\n",
      "Inputs::\n",
      "\n",
      "        [Mandatory]\n",
      "        in_file: (a pathlike object or string representing an existing file)\n",
      "                motion parameters\n",
      "        parameter_source: ('FSL' or 'AFNI' or 'SPM' or 'FSFAST' or 'NIPY')\n",
      "                Source of movement parameters\n",
      "\n",
      "        [Optional]\n",
      "        radius: (a float, nipype default value: 50)\n",
      "                radius in mm to calculate angular FDs, 50mm is the default since it\n",
      "                is used in Power et al. 2012\n",
      "        out_file: (a pathlike object or string representing a file, nipype\n",
      "                  default value: fd_power_2012.txt)\n",
      "                output file name\n",
      "        out_figure: (a pathlike object or string representing a file, nipype\n",
      "                  default value: fd_power_2012.pdf)\n",
      "                output figure name\n",
      "        series_tr: (a float)\n",
      "                repetition time in sec.\n",
      "        save_plot: (a boolean, nipype default value: False)\n",
      "                write FD plot\n",
      "        normalize: (a boolean, nipype default value: False)\n",
      "                calculate FD in mm/s\n",
      "        figdpi: (an integer, nipype default value: 100)\n",
      "                output dpi for the FD plot\n",
      "        figsize: (a tuple of the form: (a float, a float), nipype default\n",
      "                  value: (11.7, 2.3))\n",
      "                output figure size\n",
      "\n",
      "Outputs::\n",
      "\n",
      "        out_file: (a pathlike object or string representing a file)\n",
      "                calculated FD per timestep\n",
      "        out_figure: (a pathlike object or string representing a file)\n",
      "                output image file\n",
      "        fd_average: (a float)\n",
      "                average FD\n",
      "\n",
      "References:\n",
      "-----------\n",
      "None\n"
     ]
    }
   ],
   "source": [
    "FramewiseDisplacement.help()"
   ]
  },
  {
   "cell_type": "markdown",
   "id": "vital-arnold",
   "metadata": {},
   "source": [
    "## Writing your own interfaces"
   ]
  },
  {
   "cell_type": "markdown",
   "id": "environmental-direction",
   "metadata": {},
   "source": [
    "Writing a new interface is fairly easy. The hardest part is figuring out the correct \"traits\" for each input/output parameter, so that they will be validated correctly. \n",
    "\n",
    "The easiest way to write a new interface is by copying an existing one and replacing the command line argument (if you are wrapping a command line tool) or the python code that performs whatever operation you need to do. If you are wrapping a command line tool from a neuroimaging toolkit that does not exist in Nipype yet, consider opening a PR to nipype, so others can benefit from your hard work.\n",
    "\n",
    "From more information about writing your own interfaces, check the detailed developers documentation on Nipype's docs: https://nipype.readthedocs.io/en/latest/devel/interface_specs.html"
   ]
  }
 ],
 "metadata": {
  "kernelspec": {
   "display_name": "Python 3",
   "language": "python",
   "name": "python3"
  },
  "language_info": {
   "codemirror_mode": {
    "name": "ipython",
    "version": 3
   },
   "file_extension": ".py",
   "mimetype": "text/x-python",
   "name": "python",
   "nbconvert_exporter": "python",
   "pygments_lexer": "ipython3",
   "version": "3.7.9"
  }
 },
 "nbformat": 4,
 "nbformat_minor": 5
}
